{
 "cells": [
  {
   "cell_type": "markdown",
   "id": "c079f3da-e0ef-4bb0-941b-416c6b2c865d",
   "metadata": {},
   "source": [
    "# Snowflake utils example   \n",
    "\n",
    "SnowflakeDataConnector is utility classMethods for interacting with Snowflake databases which provides a set of tools to simplify working with Snowflake databases \n",
    "\n",
    "**Functionality:**\n",
    "\n",
    "- Connects to Snowflake using user or technical credentials.  \n",
    "- Downloads data from Snowflake and saves it as pickle files.  \n",
    "- Creates temporary tables in Snowflake.  \n",
    "- Executes SQL queries and returns results as DataFrames.\n",
    "- Uploads data from DataFrames to Snowflake tables.\n",
    "- Delete part or clean the table\n",
    "- Closes the Snowflake connection when done."
   ]
  },
  {
   "cell_type": "markdown",
   "id": "0059efa4-7580-4b7e-88c7-3efc46ba943c",
   "metadata": {},
   "source": [
    "1. [Connection](#1)\n",
    "2. [Download data](#2)\n",
    "3. [Execute queries to df](#3)\n",
    "4. [Create tmp tables](#4)\n",
    "5. [Upload data](#5)\n",
    "6. [Clean data from table](#6)\n",
    "7. [Close connection](#7)"
   ]
  },
  {
   "cell_type": "markdown",
   "id": "76d5a321-c3f3-4915-822e-77beefbf895e",
   "metadata": {},
   "source": [
    "# 1\n",
    "## Connection \n",
    "\n",
    "A connector is created when the class is initialized\n",
    "\n",
    "Connectors of 2 types:  \n",
    "- **by user** with normal authorization\n",
    "To create a connection via user credentials it is necessary to pass only `user` account when initializing the class\n",
    "- **by tech account**  \n",
    "To create a connection via technical account it is necessary to pass both `tech_login` and `tech_key` when initializing the class "
   ]
  },
  {
   "cell_type": "code",
   "execution_count": 5,
   "id": "b03e9167-dbd6-4caf-ae3f-6d3ec2cd87e3",
   "metadata": {
    "tags": []
   },
   "outputs": [],
   "source": [
    "# !pip3 install --upgrade snowflake-sqlalchemy"
   ]
  },
  {
   "cell_type": "code",
   "execution_count": 1,
   "id": "8c029e35-53c7-402c-8664-952d26ff75fb",
   "metadata": {},
   "outputs": [],
   "source": [
    "import os\n",
    "from getpass import getpass\n",
    "\n",
    "from utils.snowflake_utils import SnowflakeDataConnector"
   ]
  },
  {
   "cell_type": "code",
   "execution_count": 2,
   "id": "bc96711e-04d3-4b6c-b762-71e1ababba76",
   "metadata": {
    "tags": []
   },
   "outputs": [
    {
     "name": "stdin",
     "output_type": "stream",
     "text": [
      "Enter tech_key:  ········\n"
     ]
    }
   ],
   "source": [
    "# With user\n",
    "sf_user = '---'\n",
    "\n",
    "### With ML tech account\n",
    "tech_login = '...'\n",
    "tech_key   = getpass(\"Enter tech_key: \")"
   ]
  },
  {
   "cell_type": "code",
   "execution_count": 1,
   "id": "f4039a74-3913-4657-bc61-6193f753276f",
   "metadata": {
    "tags": []
   },
   "outputs": [],
   "source": [
    "# with sf_user\n",
    "sf_connector = SnowflakeDataConnector(user=sf_user)"
   ]
  },
  {
   "cell_type": "code",
   "execution_count": 3,
   "id": "e1f9681b-76dc-48a1-88f4-2c8ad48e21de",
   "metadata": {
    "tags": []
   },
   "outputs": [
    {
     "name": "stdout",
     "output_type": "stream",
     "text": [
      "Connected to Snowflake with Tech acccount\n"
     ]
    }
   ],
   "source": [
    "# Or with tech acc\n",
    "sf_connector_tech = SnowflakeDataConnector(tech_key=tech_key, tech_login=tech_login)"
   ]
  },
  {
   "cell_type": "markdown",
   "id": "924bfe3a-e7c1-4939-9f49-7558655be48b",
   "metadata": {},
   "source": [
    "# 2\n",
    "## Download data"
   ]
  },
  {
   "cell_type": "code",
   "execution_count": 10,
   "id": "b64f31df-ebb2-4104-aff8-59ac8fef03a6",
   "metadata": {
    "tags": []
   },
   "outputs": [],
   "source": [
    "DEPTH      = 10        # Download Depth -> make it really big for full history \n",
    "BATCH_SIZE = 3000000   # SnowFlake Batches"
   ]
  },
  {
   "cell_type": "code",
   "execution_count": 11,
   "id": "62a0c717-5dc0-4e92-93a4-e2f46b4a5df5",
   "metadata": {
    "tags": []
   },
   "outputs": [],
   "source": [
    "########################### Queries\n",
    "###########################################################\n",
    "\n",
    "START_DATE = '2023-10-01'\n",
    "END_DATE   = '2023-10-02'\n",
    "\n",
    "users = {\n",
    "    'query': \"\"\"\n",
    "             SELECT \n",
    "             *\n",
    "             FROM tbl\n",
    "             LIMIT 1000\n",
    "             \"\"\",\n",
    "    'raw_folder_path': 'data/raw/users',\n",
    "    'full_file_folder': 'data/',\n",
    "    'file_name': 'users', \n",
    "}\n",
    "\n",
    "subscription = {\n",
    "    'query':  f'''\n",
    "                select *\n",
    "                from tbl1\n",
    "                where True\n",
    "                and TRANSACTION_TS>='{START_DATE}'\n",
    "                and TRANSACTION_TS<'{START_DATE}'\n",
    "                ''',\n",
    "    \n",
    "    'raw_folder_path': 'data/raw/subscription',\n",
    "    'full_file_folder': 'data/',\n",
    "    'file_name': 'subscription'\n",
    "}\n",
    "\n",
    "transaction = {\n",
    "    'query':  f'''\n",
    "                select *\n",
    "                from tbl2\n",
    "                where True\n",
    "                and TRANSACTION_TS>='{START_DATE}'\n",
    "                and TRANSACTION_TS<'{END_DATE}'\n",
    "                ''',\n",
    "    \n",
    "    'raw_folder_path': 'data/raw/transaction',\n",
    "    'full_file_folder': 'data/',\n",
    "    'file_name': 'transaction'\n",
    "}\n",
    "\n",
    "\n",
    "load_list = [users, subscription, transaction]"
   ]
  },
  {
   "cell_type": "code",
   "execution_count": 12,
   "id": "8c7b5443-bc65-44e9-a32a-d120e407a5d2",
   "metadata": {
    "tags": []
   },
   "outputs": [
    {
     "name": "stdout",
     "output_type": "stream",
     "text": [
      "users data loading...\n"
     ]
    },
    {
     "name": "stderr",
     "output_type": "stream",
     "text": [
      " 10%|████▍                                       | 1/10 [00:00<00:01,  6.09it/s]\n"
     ]
    },
    {
     "name": "stdout",
     "output_type": "stream",
     "text": [
      "users data loaded in data/raw/users, 1 files\n"
     ]
    },
    {
     "name": "stderr",
     "output_type": "stream",
     "text": [
      "100%|█████████████████████████████████████████| 10/10 [00:00<00:00, 2314.10it/s]\n"
     ]
    },
    {
     "name": "stdout",
     "output_type": "stream",
     "text": [
      "subscription data loading...\n"
     ]
    },
    {
     "name": "stderr",
     "output_type": "stream",
     "text": [
      "  0%|                                                    | 0/10 [00:00<?, ?it/s]\n"
     ]
    },
    {
     "name": "stdout",
     "output_type": "stream",
     "text": [
      "subscription data loaded in data/raw/subscription, 1 files\n"
     ]
    },
    {
     "name": "stderr",
     "output_type": "stream",
     "text": [
      "100%|███████████████████████████████████████████| 10/10 [00:00<00:00, 78.94it/s]\n"
     ]
    },
    {
     "name": "stdout",
     "output_type": "stream",
     "text": [
      "transaction data loading...\n"
     ]
    },
    {
     "name": "stderr",
     "output_type": "stream",
     "text": [
      " 10%|████▍                                       | 1/10 [00:00<00:04,  1.81it/s]\n"
     ]
    },
    {
     "name": "stdout",
     "output_type": "stream",
     "text": [
      "transaction data loaded in data/raw/transaction, 1 files\n"
     ]
    },
    {
     "name": "stderr",
     "output_type": "stream",
     "text": [
      "100%|██████████████████████████████████████████| 10/10 [00:00<00:00, 211.90it/s]\n"
     ]
    }
   ],
   "source": [
    "########################### Download\n",
    "###########################################################\n",
    "\n",
    "for data in load_list:\n",
    "    sf_connector.download_data(query=data['query'],\n",
    "                               raw_folder_path=data['raw_folder_path'],\n",
    "                               full_file_folder=data['full_file_folder'],\n",
    "                               file_name=data['file_name'],\n",
    "                               depth=DEPTH,\n",
    "                               batch=BATCH_SIZE\n",
    "                               # join=True, ---- DEFAULT - to join into a single file\n",
    "                              )"
   ]
  },
  {
   "cell_type": "markdown",
   "id": "82a0343d-a8a4-46b7-9391-b36408d11570",
   "metadata": {},
   "source": [
    "# 3\n",
    "## Execute queries to df"
   ]
  },
  {
   "cell_type": "code",
   "execution_count": 4,
   "id": "14e89d53-8131-4346-a508-5a052394c816",
   "metadata": {
    "tags": []
   },
   "outputs": [],
   "source": [
    "df = sf_connector.execute_query_to_pandas(\"select * from event_tbl limit 3\")\n",
    "df # returns df from the query"
   ]
  },
  {
   "cell_type": "code",
   "execution_count": 9,
   "id": "b9f0fc76-967f-42f0-9dd3-fbd7076bc6d3",
   "metadata": {
    "tags": []
   },
   "outputs": [
    {
     "data": {
      "text/html": [
       "<div>\n",
       "<style scoped>\n",
       "    .dataframe tbody tr th:only-of-type {\n",
       "        vertical-align: middle;\n",
       "    }\n",
       "\n",
       "    .dataframe tbody tr th {\n",
       "        vertical-align: top;\n",
       "    }\n",
       "\n",
       "    .dataframe thead th {\n",
       "        text-align: right;\n",
       "    }\n",
       "</style>\n",
       "<table border=\"1\" class=\"dataframe\">\n",
       "  <thead>\n",
       "    <tr style=\"text-align: right;\">\n",
       "      <th></th>\n",
       "      <th>CNT</th>\n",
       "    </tr>\n",
       "  </thead>\n",
       "  <tbody>\n",
       "    <tr>\n",
       "      <th>0</th>\n",
       "      <td>6586</td>\n",
       "    </tr>\n",
       "  </tbody>\n",
       "</table>\n",
       "</div>"
      ],
      "text/plain": [
       "    CNT\n",
       "0  6586"
      ]
     },
     "execution_count": 9,
     "metadata": {},
     "output_type": "execute_result"
    }
   ],
   "source": [
    "query = \"\"\"\n",
    "        select count(*) as cnt \n",
    "        from meal_tbl\n",
    "        \"\"\"\n",
    "\n",
    "df = sf_connector_tech.execute_query_to_pandas(query)\n",
    "df"
   ]
  },
  {
   "cell_type": "code",
   "execution_count": 10,
   "id": "8685d05f-996b-4e39-92cf-56793075834a",
   "metadata": {
    "tags": []
   },
   "outputs": [
    {
     "data": {
      "text/plain": [
       "pandas.core.frame.DataFrame"
      ]
     },
     "execution_count": 10,
     "metadata": {},
     "output_type": "execute_result"
    }
   ],
   "source": [
    "type(df)"
   ]
  },
  {
   "cell_type": "markdown",
   "id": "49f29391-5a24-4fbc-ace8-ad8e983b1626",
   "metadata": {},
   "source": [
    "# 4 \n",
    "## Create tmp tables"
   ]
  },
  {
   "cell_type": "code",
   "execution_count": 7,
   "id": "d9c63000-08cc-459a-aebb-62dd631e9349",
   "metadata": {},
   "outputs": [],
   "source": [
    "database  = \"SANDBOX\"\n",
    "schema    = \"ML\"\n",
    "\n",
    "idx = {\n",
    "    'tmp_table_name': 'idx',\n",
    "    'tmp_query': f\"\"\"\n",
    "                select user_id\n",
    "                from tbl1\n",
    "                where TRUE\n",
    "                and TRANSACTION_TS>='{START_DATE}'\n",
    "                and TRANSACTION_TS<'{END_DATE}'\n",
    "                \"\"\",\n",
    "}\n",
    "\n",
    "click = {\n",
    "    'tmp_table_name': 'click',\n",
    "    'tmp_query': f\"\"\"\n",
    "                select\n",
    "                    ue.user_id,\n",
    "                    cast(ue.event_time as date) as event_date,\n",
    "                    COUNT(CASE WHEN EVENT_TYPE like '%BlockView%' THEN 4 END) as block_view,\n",
    "                    COUNT(CASE WHEN EVENT_TYPE like '%ScreenView%' THEN 4 END) as screen_view\n",
    "                from simple.product.f_user_event as ue\n",
    "                join {database}.{schema}.{idx['tmp_table_name']} ids \n",
    "                on ue.user_id = ids.user_id\n",
    "                where ue.event_time >= '{START_DATE}'\n",
    "                group by ue.user_id, event_date\n",
    "                order by ue.user_id, event_date\n",
    "                \"\"\",\n",
    "}\n",
    "\n",
    "tmp_queries = [idx, click]"
   ]
  },
  {
   "cell_type": "code",
   "execution_count": 8,
   "id": "f5ac8c18-041f-49dc-b0f0-b354dee3d60b",
   "metadata": {
    "tags": []
   },
   "outputs": [],
   "source": [
    "for tmp_tbl in tmp_queries:\n",
    "    sf_connector.create_temp_tbl(database=database,\n",
    "                    schema=schema,\n",
    "                    tmp_table_name=tmp_tbl['tmp_table_name'], \n",
    "                    tmp_query=tmp_tbl['tmp_query'])"
   ]
  },
  {
   "cell_type": "code",
   "execution_count": 9,
   "id": "49b777d8-d5ba-4be8-a293-ed47da5b9187",
   "metadata": {
    "tags": []
   },
   "outputs": [
    {
     "data": {
      "text/html": [
       "<div>\n",
       "<style scoped>\n",
       "    .dataframe tbody tr th:only-of-type {\n",
       "        vertical-align: middle;\n",
       "    }\n",
       "\n",
       "    .dataframe tbody tr th {\n",
       "        vertical-align: top;\n",
       "    }\n",
       "\n",
       "    .dataframe thead th {\n",
       "        text-align: right;\n",
       "    }\n",
       "</style>\n",
       "<table border=\"1\" class=\"dataframe\">\n",
       "  <thead>\n",
       "    <tr style=\"text-align: right;\">\n",
       "      <th></th>\n",
       "      <th>USER_ID</th>\n",
       "      <th>EVENT_DATE</th>\n",
       "      <th>BLOCK_VIEW</th>\n",
       "      <th>SCREEN_VIEW</th>\n",
       "    </tr>\n",
       "  </thead>\n",
       "  <tbody>\n",
       "    <tr>\n",
       "      <th>0</th>\n",
       "      <td>5c1fb4d9-ecb8-4674-a824-114323454412</td>\n",
       "      <td>2023-10-01</td>\n",
       "      <td>4</td>\n",
       "      <td>6</td>\n",
       "    </tr>\n",
       "    <tr>\n",
       "      <th>1</th>\n",
       "      <td>5c251826-a445-42f1-8efa-fd81df9f4c5e</td>\n",
       "      <td>2023-10-01</td>\n",
       "      <td>0</td>\n",
       "      <td>0</td>\n",
       "    </tr>\n",
       "    <tr>\n",
       "      <th>2</th>\n",
       "      <td>5c251826-a445-42f1-8efa-fd81df9f4c5e</td>\n",
       "      <td>2023-10-02</td>\n",
       "      <td>0</td>\n",
       "      <td>0</td>\n",
       "    </tr>\n",
       "    <tr>\n",
       "      <th>3</th>\n",
       "      <td>5c38f721-785f-4f76-b08d-208fa0320769</td>\n",
       "      <td>2023-10-01</td>\n",
       "      <td>25</td>\n",
       "      <td>14</td>\n",
       "    </tr>\n",
       "    <tr>\n",
       "      <th>4</th>\n",
       "      <td>5c38f721-785f-4f76-b08d-208fa0320769</td>\n",
       "      <td>2023-10-02</td>\n",
       "      <td>0</td>\n",
       "      <td>2</td>\n",
       "    </tr>\n",
       "  </tbody>\n",
       "</table>\n",
       "</div>"
      ],
      "text/plain": [
       "                                USER_ID  EVENT_DATE  BLOCK_VIEW  SCREEN_VIEW\n",
       "0  5c1fb4d9-ecb8-4674-a824-114323454412  2023-10-01           4            6\n",
       "1  5c251826-a445-42f1-8efa-fd81df9f4c5e  2023-10-01           0            0\n",
       "2  5c251826-a445-42f1-8efa-fd81df9f4c5e  2023-10-02           0            0\n",
       "3  5c38f721-785f-4f76-b08d-208fa0320769  2023-10-01          25           14\n",
       "4  5c38f721-785f-4f76-b08d-208fa0320769  2023-10-02           0            2"
      ]
     },
     "execution_count": 9,
     "metadata": {},
     "output_type": "execute_result"
    }
   ],
   "source": [
    "click_df = sf_connector.execute_query_to_pandas(f\"select * from {database}.{schema}.click\")\n",
    "click_df.head()"
   ]
  },
  {
   "cell_type": "markdown",
   "id": "72e3dbbf-1537-44a0-b87b-21f2bfbb224c",
   "metadata": {},
   "source": [
    "# 5\n",
    "## Upload data \n",
    "\n",
    "Upload data using tech account"
   ]
  },
  {
   "cell_type": "code",
   "execution_count": 10,
   "id": "0cdcef9d-8113-43da-b2ce-8df72b06562d",
   "metadata": {
    "tags": []
   },
   "outputs": [
    {
     "name": "stdout",
     "output_type": "stream",
     "text": [
      "Name: SQLAlchemy\n",
      "Version: 1.4.49\n",
      "Summary: Database Abstraction Library\n",
      "Home-page: https://www.sqlalchemy.org\n",
      "Author: Mike Bayer\n",
      "Author-email: mike_mp@zzzcomputing.com\n",
      "License: MIT\n",
      "Location: /home/ec2-user/.local/lib/python3.7/site-packages\n",
      "Requires: greenlet, importlib-metadata\n",
      "Required-by: snowflake-sqlalchemy\n"
     ]
    }
   ],
   "source": [
    "!pip3 show sqlalchemy"
   ]
  },
  {
   "cell_type": "code",
   "execution_count": 11,
   "id": "1087f936-872c-4292-9c36-2e856f9f79a8",
   "metadata": {
    "tags": []
   },
   "outputs": [
    {
     "data": {
      "text/plain": [
       "snowflake.connector.connection.SnowflakeConnection"
      ]
     },
     "execution_count": 11,
     "metadata": {},
     "output_type": "execute_result"
    }
   ],
   "source": [
    "type(sf_connector.connector)"
   ]
  },
  {
   "cell_type": "code",
   "execution_count": 12,
   "id": "90ab061f-f5bc-42df-837e-31319f42302b",
   "metadata": {
    "tags": []
   },
   "outputs": [
    {
     "name": "stdout",
     "output_type": "stream",
     "text": [
      "Uploading....\n",
      "Data uploaded to PALTA_SANDBOX.ML.tmp_example - 6958 rows\n"
     ]
    }
   ],
   "source": [
    "sf_connector_tech.upload_data(df=click_df,\n",
    "                              database=database, \n",
    "                              schema=schema, \n",
    "                              table_name='tmp_example', \n",
    "                              if_exists=\"append\" # DEFAULT\n",
    "                             )"
   ]
  },
  {
   "cell_type": "code",
   "execution_count": 2,
   "id": "dffe605c-fa2c-438a-ae09-2f4a7788608d",
   "metadata": {
    "tags": []
   },
   "outputs": [],
   "source": [
    "sf_connector_tech.execute_query_to_pandas(\"select * from sandbox.ml.tmp_example limit 10\")"
   ]
  },
  {
   "cell_type": "code",
   "execution_count": 15,
   "id": "c53f478e-81a7-4440-a808-f6e37b8039bf",
   "metadata": {
    "tags": []
   },
   "outputs": [
    {
     "data": {
      "text/plain": [
       "True"
      ]
     },
     "execution_count": 15,
     "metadata": {},
     "output_type": "execute_result"
    }
   ],
   "source": [
    "# Drop table\n",
    "\n",
    "# cursor = sf_connector_tech.connector.cursor()\n",
    "# cursor.execute(\"DROP TABLE IF EXISTS sandbox.ml.tmp_example\")\n",
    "# cursor.close()"
   ]
  },
  {
   "cell_type": "code",
   "execution_count": 3,
   "id": "98550c35-8b4c-4a7b-acbb-c65803bfbbec",
   "metadata": {
    "tags": []
   },
   "outputs": [],
   "source": [
    "sf_connector_tech.execute_query_to_pandas(\"select * from sandbox.ml.tmp_example\")\n",
    "\n",
    "# returns pandas df"
   ]
  },
  {
   "cell_type": "markdown",
   "id": "4d98d55c-b2ce-43e6-81b2-a1691442f8ef",
   "metadata": {
    "tags": []
   },
   "source": [
    "# 6\n",
    "## Clean data from table\n",
    "\n",
    "Clean data using tech account  \n",
    "\n",
    "- Provide the name of the Snowflake database, schema able from which you want to delete data.\n",
    "- If you only want to delete specific rows from the table based on a condition (similar to a WHERE clause in SQL), you can provide this condition as a string. For example, if you want to delete rows where \"PREDICTION_AT\" is a specific date, you can pass it as 'PREDICTION_AT='1990-05-15''. If not provided, the function will prompt you to enter the condition interactively.\n",
    "- If drop_all is True, method will clean all data in the table without any conditions, the method will require you to confirm the deletion of all data."
   ]
  },
  {
   "cell_type": "code",
   "execution_count": 4,
   "id": "07300479-9ee3-408c-8d52-d753cdd6b68b",
   "metadata": {
    "tags": []
   },
   "outputs": [],
   "source": [
    "database_d = 'sandbox'\n",
    "schema     = 'ml'\n",
    "table_del  = 'MODEL_1'\n",
    "part       = \"PREDICTION_AT='2023-10-06'\""
   ]
  },
  {
   "cell_type": "code",
   "execution_count": 5,
   "id": "09896afd-2591-41c2-bce5-3d09eb5db8c7",
   "metadata": {
    "tags": []
   },
   "outputs": [
    {
     "name": "stdout",
     "output_type": "stream",
     "text": [
      "delete part - PREDICTION_AT='2023-10-06'\n",
      "done\n"
     ]
    }
   ],
   "source": [
    "sf_connector_tech.delete_data(database=database_d, schema=schema, table_name=table_del, drop_condition=part)"
   ]
  },
  {
   "cell_type": "markdown",
   "id": "dc468225-fe1f-4c31-9747-724ca49a02da",
   "metadata": {},
   "source": [
    "# 7\n",
    "## Close connection\n",
    "\n",
    "Closes the Snowflake connection when done"
   ]
  },
  {
   "cell_type": "code",
   "execution_count": 13,
   "id": "ca3f7008-46f3-4af5-b426-8d5accdffd22",
   "metadata": {
    "tags": []
   },
   "outputs": [
    {
     "name": "stdout",
     "output_type": "stream",
     "text": [
      "Disconnected from Snowflake.\n"
     ]
    }
   ],
   "source": [
    "sf_connector.disconnect()"
   ]
  },
  {
   "cell_type": "code",
   "execution_count": 6,
   "id": "9319e718-ab8e-40f0-a840-cbb39366eb2c",
   "metadata": {
    "tags": []
   },
   "outputs": [
    {
     "name": "stdout",
     "output_type": "stream",
     "text": [
      "Disconnected from Snowflake.\n"
     ]
    }
   ],
   "source": [
    "sf_connector_tech.disconnect()"
   ]
  },
  {
   "cell_type": "code",
   "execution_count": null,
   "id": "7aa92b73-0162-4fbd-a961-add997d8c7e1",
   "metadata": {},
   "outputs": [],
   "source": []
  }
 ],
 "metadata": {
  "kernelspec": {
   "display_name": "Python 3 (ipykernel)",
   "language": "python",
   "name": "python3"
  },
  "language_info": {
   "codemirror_mode": {
    "name": "ipython",
    "version": 3
   },
   "file_extension": ".py",
   "mimetype": "text/x-python",
   "name": "python",
   "nbconvert_exporter": "python",
   "pygments_lexer": "ipython3",
   "version": "3.7.16"
  }
 },
 "nbformat": 4,
 "nbformat_minor": 5
}